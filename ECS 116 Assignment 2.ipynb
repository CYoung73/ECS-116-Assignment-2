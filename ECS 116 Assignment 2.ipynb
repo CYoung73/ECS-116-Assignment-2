{
 "cells": [
  {
   "cell_type": "markdown",
   "id": "4f9d3399-cc59-4471-b192-7f45fe26f8d8",
   "metadata": {},
   "source": [
    "## <span style=color:blue>Patterns used in Programming Assignment 2 (version mostly avoiding the util.py file)  </span>"
   ]
  },
  {
   "cell_type": "code",
   "execution_count": null,
   "id": "54739ab3-0586-4f04-9365-bb0fbcbc1984",
   "metadata": {},
   "outputs": [],
   "source": [
    "# These are boiler plate imports that seem useful\n",
    "# Perhaps cleaner would be to delete or comment out the ones that aren't used in this script...\n",
    "\n",
    "import sys\n",
    "import json\n",
    "import csv\n",
    "import yaml\n",
    "\n",
    "import pandas as pd\n",
    "import numpy as np\n",
    "\n",
    "import datetime;\n",
    "\n",
    "import matplotlib as mpl\n",
    "\n",
    "import time\n",
    "from datetime import datetime\n",
    "# see https://stackoverflow.com/questions/415511/how-do-i-get-the-current-time-in-python\n",
    "#   for some basics about datetime\n",
    "\n",
    "import pprint\n",
    "\n",
    "import os\n",
    "from dotenv import load_dotenv\n",
    "\n",
    "# sqlalchemy 2.0 documentation: https://www.sqlalchemy.org/\n",
    "import psycopg2\n",
    "from sqlalchemy import create_engine, text as sql_text\n",
    "\n",
    "# the following is deprecated, it seems, so using the sqlalchemy\n",
    "# from pyscopg2 import sqlio\n",
    "\n",
    "# the file in benchmarking/util.py should hold utilities useful for your benchmarking exercise\n",
    "# In this notebook we have commented out all mentions of util, so that you can run\n",
    "#    this notebook before setting up your benchmarking/util.py file\n",
    "# sys.path.append('benchmarking/')\n",
    "# import util\n",
    "# to invoke a function \"foo()\" inside util.py, use \"util.foo()\""
   ]
  },
  {
   "cell_type": "code",
   "execution_count": null,
   "id": "468216bb-9cce-4985-b9a0-1abfa83c5357",
   "metadata": {},
   "outputs": [],
   "source": [
    "dotenv_path = 'variables.env'\n",
    "load_dotenv(dotenv_path=dotenv_path)"
   ]
  },
  {
   "cell_type": "code",
   "execution_count": null,
   "id": "956b698b-80fc-4f60-8c21-f42c708766fd",
   "metadata": {},
   "outputs": [],
   "source": [
    "\n",
    "load_dotenv()\n",
    "\n",
    "schema = os.getenv('DISC_4_SCHEMA')\n",
    "port = os.getenv('DISC_4_PORT')\n",
    "host = os.getenv('DISC_4_HOST')\n",
    "database = os.getenv('DISC_4_DB')\n",
    "username = os.getenv('username')\n",
    "password = os.getenv('password')"
   ]
  },
  {
   "cell_type": "code",
   "execution_count": null,
   "id": "80c4fe37-23c6-4b4f-9554-26aec6a7b0f0",
   "metadata": {},
   "outputs": [],
   "source": [
    "# following https://www.geeksforgeeks.org/connecting-postgresql-with-sqlalchemy-in-python/\n",
    "\n",
    "db_eng = create_engine(f\"postgresql+psycopg2://{username}:{password}@{host}:{port}/{database}\",\n",
    "                       connect_args={'options': '-csearch_path={}'.format(f\"{schema}\")},\n",
    "                       isolation_level = 'SERIALIZABLE')\n",
    "#    , echo=True)\n",
    "#    , echo_pool=\"debug\")\n",
    "\n",
    "print(\"Successfully created db engine.\")\n",
    "\n",
    "# connect_args is used to set search_path to the schema 'new_york_city' in the airbnb database\n",
    "\n",
    "# isolation_level SERIALIZABLE makes transactions happen in sequence, which is good \n",
    "#      for the benchmarking we will be doing\n",
    "\n",
    "# for general info on sqlalchemy connections,\n",
    "#    see: https://docs.sqlalchemy.org/en/20/core/connections.html\n",
    "\n",
    "# echo from https://docs.sqlalchemy.org/en/20/core/engines.html"
   ]
  },
  {
   "cell_type": "code",
   "execution_count": null,
   "id": "212a841c-939a-418d-aa27-9722dabe3fbe",
   "metadata": {},
   "outputs": [],
   "source": [
    "sys.path.append('/Users/Nfaith21/Documents/ECS 116 - Misc/DISC_5_FILES/benchmarking/')\n",
    "import util_main as util"
   ]
  },
  {
   "cell_type": "code",
   "execution_count": null,
   "id": "ff218e46-e4e9-4438-b23a-c30f4eec9624",
   "metadata": {},
   "outputs": [],
   "source": [
    "new_dict = {}\n",
    "\n",
    "years = ['2009', '2010', '2011', '2012', '2013', '2014', '2015', '2016', '2017', '2018', '2019',\n",
    "        '2020', '2021', '2022', '2023', '2024']\n",
    "for year in years:\n",
    "    new_dict['q_listings_join_reviews_'+year] = util.build_query_listings_join_reviews_datetime(year+'-01-01 12:00:00.000', year+'-12-31 12:00:00.000')\n"
   ]
  },
  {
   "cell_type": "code",
   "execution_count": null,
   "id": "1cc9fa75-e615-4037-bfc8-e7a88456ab44",
   "metadata": {},
   "outputs": [],
   "source": [
    "all_perf_details = {}\n",
    "\n",
    "all_indexes = [['datetime','reviews'], ['id','listings']] \n",
    "\n",
    "\n",
    "index_combinations = [\n",
    "    [],\n",
    "    [['datetime', 'reviews']],\n",
    "    [['id', 'listings']],\n",
    "    [['datetime', 'reviews'], ['id', 'listings']]\n",
    "]\n",
    "\n",
    "count = 50\n",
    "\n",
    "for query_name, query in new_dict.items():\n",
    "    print('Processing query:', query_name)\n",
    "\n",
    "    query_perf_details = {}\n",
    "\n",
    "    for spec in index_combinations:\n",
    "        spec_name = util.build_index_description_key(all_indexes, spec) if spec else '__'\n",
    "\n",
    "        print('Processing spec:', spec_name)\n",
    "\n",
    "        for index in all_indexes:\n",
    "            if index not in spec:\n",
    "                mod_index = util.add_drop_index(db_eng, 'drop', index[0], index[1])\n",
    "\n",
    "        for index in spec:\n",
    "            mod_index = util.add_drop_index(db_eng, 'add', index[0], index[1])\n",
    "\n",
    "        perf_details = util.calc_time_diff_per_year(db_eng, count, {query_name: query})\n",
    "\n",
    "        query_perf_details[spec_name] = perf_details[query_name]\n",
    "\n",
    "    all_perf_details[query_name] = query_perf_details\n",
    "    print('Finished processing query:', query_name, '\\n')\n",
    "\n",
    "util.write_perf_data(all_perf_details, 'listings_join_reviews_test.json')\n"
   ]
  },
  {
   "cell_type": "code",
   "execution_count": null,
   "id": "113096d1-97fb-4be8-9875-38fb8e49bc86",
   "metadata": {},
   "outputs": [],
   "source": [
    "  q5 = \"\"\"\n",
    "SELECT CAST(EXTRACT(YEAR FROM datetime) AS INTEGER) AS year, COUNT(*) AS review_count\n",
    "FROM reviews\n",
    "group by year;\n",
    "\"\"\"\n",
    "with db_eng.connect() as conn:\n",
    "    result_reviews = conn.execute(sql_text(q5))\n",
    "    print()\n",
    "    print(result_reviews.all())\n"
   ]
  }
 ],
 "metadata": {
  "kernelspec": {
   "display_name": "Python 3 (ipykernel)",
   "language": "python",
   "name": "python3"
  },
  "language_info": {
   "codemirror_mode": {
    "name": "ipython",
    "version": 3
   },
   "file_extension": ".py",
   "mimetype": "text/x-python",
   "name": "python",
   "nbconvert_exporter": "python",
   "pygments_lexer": "ipython3",
   "version": "3.11.7"
  }
 },
 "nbformat": 4,
 "nbformat_minor": 5
}
