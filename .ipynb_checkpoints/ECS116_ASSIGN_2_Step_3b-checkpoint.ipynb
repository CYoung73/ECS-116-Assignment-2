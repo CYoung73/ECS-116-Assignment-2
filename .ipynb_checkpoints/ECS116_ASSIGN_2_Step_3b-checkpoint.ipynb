{
 "cells": [
  {
   "cell_type": "markdown",
   "id": "d6880f82-965b-421f-b271-a1b817bb49bd",
   "metadata": {},
   "source": [
    "# Setup"
   ]
  },
  {
   "cell_type": "code",
   "execution_count": null,
   "id": "c220ca76-5de4-4e84-babc-46f20bfff173",
   "metadata": {},
   "outputs": [],
   "source": [
    "import sys\n",
    "import json\n",
    "import csv\n",
    "import yaml\n",
    "\n",
    "import pandas as pd\n",
    "import numpy as np\n",
    "\n",
    "import matplotlib as mpl\n",
    "\n",
    "import time\n",
    "from datetime import datetime\n",
    "\n",
    "import os\n",
    "from dotenv import load_dotenv\n",
    "\n",
    "import pprint\n",
    "\n",
    "import psycopg2\n",
    "from sqlalchemy import create_engine, text as sql_text\n",
    "\n",
    "sys.path.append('benchmarking/')\n",
    "import util"
   ]
  },
  {
   "cell_type": "code",
   "execution_count": null,
   "id": "78f61812-83f3-427e-99d3-2bdbbf81b09c",
   "metadata": {},
   "outputs": [],
   "source": [
    "# Load the env file \n",
    "\n",
    "dotenv_path = 'variables.env'\n",
    "load_dotenv(dotenv_path=dotenv_path)"
   ]
  },
  {
   "cell_type": "code",
   "execution_count": null,
   "id": "381fa326-d1e1-4f65-ad83-cacca1c909b5",
   "metadata": {},
   "outputs": [],
   "source": [
    "# Import the env variables\n",
    "\n",
    "load_dotenv()\n",
    "\n",
    "schema = os.getenv('DISC_4_SCHEMA')\n",
    "port = os.getenv('DISC_4_PORT')\n",
    "host = os.getenv('DISC_4_HOST')\n",
    "database = os.getenv('DISC_4_DB')\n",
    "username = os.getenv('username')\n",
    "password = os.getenv('password')"
   ]
  },
  {
   "cell_type": "code",
   "execution_count": null,
   "id": "bd919cb5-f6b4-4c9a-ba22-b1cd39078941",
   "metadata": {},
   "outputs": [],
   "source": [
    "# following https://www.geeksforgeeks.org/connecting-postgresql-with-sqlalchemy-in-python/\n",
    "\n",
    "db_eng = create_engine(f\"postgresql+psycopg2://{username}:{password}@{host}:{port}/{database}\",\n",
    "                       connect_args={'options': '-csearch_path={}'.format(schema)},\n",
    "                       isolation_level = 'SERIALIZABLE')\n",
    "\n",
    "print(\"Successfully created db engine.\")"
   ]
  },
  {
   "cell_type": "markdown",
   "id": "32967669-be3e-494c-84e4-4ceb99b7ac47",
   "metadata": {},
   "source": [
    "# Step 3b"
   ]
  },
  {
   "cell_type": "code",
   "execution_count": null,
   "id": "b9edd452-3102-412e-a611-118fc1cd31f2",
   "metadata": {},
   "outputs": [],
   "source": [
    "text_search_dict = {}\n",
    "words = ['apartment','awesome','horrible']\n",
    "years = ['2009', '2010', '2011', '2012', '2013', '2014', '2017', '2019', '2023']\n",
    "\n",
    "for word in words:\n",
    "    for year in years:\n",
    "        text_search_dict[word+'_'+year] = util.text_search(db_eng, year+'-01-01',year+'-12-31',word, 50)"
   ]
  },
  {
   "cell_type": "code",
   "execution_count": null,
   "id": "cb0cdc43-3db1-42c4-a830-3bf1836e2e83",
   "metadata": {},
   "outputs": [],
   "source": [
    "text_search_dict"
   ]
  },
  {
   "cell_type": "code",
   "execution_count": null,
   "id": "d379c3a5-4d52-442f-97e5-bdde9461504a",
   "metadata": {},
   "outputs": [],
   "source": [
    "# Write all performance data to JSON file\n",
    "util.write_perf_data(text_search_dict, 'text_search_query.json')"
   ]
  }
 ],
 "metadata": {
  "kernelspec": {
   "display_name": "Python 3 (ipykernel)",
   "language": "python",
   "name": "python3"
  },
  "language_info": {
   "codemirror_mode": {
    "name": "ipython",
    "version": 3
   },
   "file_extension": ".py",
   "mimetype": "text/x-python",
   "name": "python",
   "nbconvert_exporter": "python",
   "pygments_lexer": "ipython3",
   "version": "3.11.7"
  }
 },
 "nbformat": 4,
 "nbformat_minor": 5
}
