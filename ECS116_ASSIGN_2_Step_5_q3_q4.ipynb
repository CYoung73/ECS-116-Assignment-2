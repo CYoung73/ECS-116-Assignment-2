{
 "cells": [
  {
   "cell_type": "code",
   "execution_count": 1,
   "metadata": {},
   "outputs": [],
   "source": [
    "# These are boiler plate imports that seem useful\n",
    "# Perhaps cleaner would be to delete or comment out the ones that aren't used in this script...\n",
    "\n",
    "import sys\n",
    "import json\n",
    "import csv\n",
    "import yaml\n",
    "\n",
    "import os\n",
    "from dotenv import load_dotenv\n",
    "\n",
    "import pandas as pd\n",
    "import numpy as np\n",
    "import math\n",
    "\n",
    "import matplotlib as mpl\n",
    "import matplotlib.pyplot as plt\n",
    "\n",
    "import itertools\n",
    "\n",
    "import time\n",
    "import datetime\n",
    "# see https://stackoverflow.com/questions/415511/how-do-i-get-the-current-time-in-python\n",
    "#   for some basics about datetime\n",
    "\n",
    "import pprint\n",
    "\n",
    "# sqlalchemy 2.0 documentation: https://www.sqlalchemy.org/\n",
    "import psycopg2\n",
    "from sqlalchemy import create_engine, text as sql_text\n",
    "\n",
    "# the following is deprecated, it seems, so using the sqlalchemy\n",
    "# from pyscopg2 import sqlio\n",
    "\n",
    "# the file in benchmarking/util.py should hold utilities useful for your benchmarking exercise\n",
    "# In this notebook we have commented out all mentions of util, so that you can run\n",
    "#    this notebook before setting up your benchmarking/util.py file\n",
    "sys.path.append('benchmarking/')\n",
    "import util\n",
    "# to invoke a function \"foo()\" inside util.py, use \"util.foo()\""
   ]
  },
  {
   "cell_type": "code",
   "execution_count": 2,
   "metadata": {},
   "outputs": [],
   "source": [
    "dotenv_path = 'benchmarking/.ipynb_checkpoints/variables.env'\n",
    "load_dotenv(dotenv_path, override=True)\n",
    "\n",
    "schema = os.getenv(\"SCHEMA\")\n",
    "port = os.getenv(\"PORT\")\n",
    "host = os.getenv(\"HOST\")\n",
    "database = os.getenv(\"DATABASE\")\n",
    "username = os.getenv(\"USERNAME\")\n",
    "password = os.getenv(\"PASSWORD\")"
   ]
  },
  {
   "cell_type": "code",
   "execution_count": 3,
   "metadata": {},
   "outputs": [
    {
     "name": "stdout",
     "output_type": "stream",
     "text": [
      "Successfully created db engine.\n"
     ]
    }
   ],
   "source": [
    "# following https://www.geeksforgeeks.org/connecting-postgresql-with-sqlalchemy-in-python/\n",
    "\n",
    "db_eng = create_engine(f'postgresql+psycopg2://{username}:{password}@{host}:{port}/{database}',\n",
    "                       connect_args={'options': f'-csearch_path={schema}'},\n",
    "                       isolation_level = 'SERIALIZABLE')\n",
    "#    , echo=True)\n",
    "#    , echo_pool=\"debug\")\n",
    "\n",
    "print(\"Successfully created db engine.\")\n",
    "\n",
    "# connect_args is used to set search_path to the schema 'new_york_city' in the airbnb database\n",
    "\n",
    "# isolation_level SERIALIZABLE makes transactions happen in sequence, which is good \n",
    "#      for the benchmarking we will be doing\n",
    "\n",
    "# for general info on sqlalchemy connections,\n",
    "#    see: https://docs.sqlalchemy.org/en/20/core/connections.html\n",
    "\n",
    "# echo from https://docs.sqlalchemy.org/en/20/core/engines.html"
   ]
  },
  {
   "cell_type": "markdown",
   "metadata": {},
   "source": [
    "# Q3"
   ]
  },
  {
   "cell_type": "code",
   "execution_count": 4,
   "metadata": {},
   "outputs": [],
   "source": [
    "def rename_keys(d):\n",
    "    return {k.split('_')[-1] : v for k, v in d.items()}\n",
    "\n",
    "def extract_value(data, val):\n",
    "    values = {}\n",
    "    for year, details in data.items():\n",
    "        values[year] = {}\n",
    "        for key, metrics in details.items():\n",
    "            if val in metrics:\n",
    "                values[year][key] = metrics[val]\n",
    "    return values"
   ]
  },
  {
   "cell_type": "code",
   "execution_count": 5,
   "metadata": {},
   "outputs": [],
   "source": [
    "data_update_datetimes = util.fetch_perf_data('update_datetimes_query.json')"
   ]
  },
  {
   "cell_type": "code",
   "execution_count": 6,
   "metadata": {},
   "outputs": [],
   "source": [
    "axis_order = ['New Springville', 'Fort Hamilton', 'Long Island City', 'Bedford-Stuyvesant', 'Staten Island', 'Bronx', 'Queens', 'Manhattan']\n",
    "renamed_data_update_datetimes = rename_keys(data_update_datetimes)\n",
    "update_datetimes_avg = extract_value(renamed_data_update_datetimes, 'avg')\n",
    "update_datetimes_avg_df = pd.DataFrame(update_datetimes_avg).T\n",
    "update_datetimes_avg_df = update_datetimes_avg_df.reindex(axis_order)\n",
    "update_datetimes_avg_df.rename(columns = {\"__\": \"no_index\",\n",
    "    \"__datetime_in_reviews__\": \"datetime_index\",\n",
    "    \"__neigh_in_listings__\": \"neigh_index\",\n",
    "    \"__datetime_in_reviews__neigh_in_listings__\": \"datetime_and_neigh_index\"}\n",
    "    , inplace = True)"
   ]
  },
  {
   "cell_type": "code",
   "execution_count": 7,
   "metadata": {},
   "outputs": [],
   "source": [
    "update_datetimes_avg_df['Difference'] = update_datetimes_avg_df['datetime_and_neigh_index'] - update_datetimes_avg_df['no_index']"
   ]
  },
  {
   "cell_type": "code",
   "execution_count": 8,
   "metadata": {},
   "outputs": [
    {
     "data": {
      "text/plain": [
       "New Springville       -0.0078\n",
       "Fort Hamilton          0.0258\n",
       "Staten Island          0.2422\n",
       "Long Island City       0.2935\n",
       "Bronx                  0.8004\n",
       "Bedford-Stuyvesant     2.6757\n",
       "Queens                11.0634\n",
       "Manhattan             13.8692\n",
       "Name: Difference, dtype: float64"
      ]
     },
     "execution_count": 8,
     "metadata": {},
     "output_type": "execute_result"
    }
   ],
   "source": [
    "update_datetimes_avg_df['Difference'].sort_values()"
   ]
  },
  {
   "cell_type": "code",
   "execution_count": 9,
   "metadata": {},
   "outputs": [],
   "source": [
    "query = \"\"\"select l.neighbourhood as loc, count(*)\n",
    "from reviews r, listings l\n",
    "where l.id = r.listing_id\n",
    " and l.neighbourhood in ('New Springville', 'Fort Hamilton', 'Long Island City', 'Bedford-Stuyvesant')\n",
    "group by loc\n",
    "union\n",
    "select l.neighbourhood_group as loc, count(*)\n",
    "from reviews r, listings l\n",
    "where l.id = r.listing_id\n",
    " and l.neighbourhood_group in ('Staten Island', 'Bronx', 'Queens', 'Manhattan')\n",
    "group by loc\n",
    "order by count;\"\"\"\n",
    "\n",
    "with db_eng.connect() as conn:\n",
    "    df = pd.read_sql_query(sql_text(query), conn)"
   ]
  },
  {
   "cell_type": "code",
   "execution_count": 23,
   "metadata": {},
   "outputs": [
    {
     "data": {
      "text/html": [
       "<div>\n",
       "<style scoped>\n",
       "    .dataframe tbody tr th:only-of-type {\n",
       "        vertical-align: middle;\n",
       "    }\n",
       "\n",
       "    .dataframe tbody tr th {\n",
       "        vertical-align: top;\n",
       "    }\n",
       "\n",
       "    .dataframe thead th {\n",
       "        text-align: right;\n",
       "    }\n",
       "</style>\n",
       "<table border=\"1\" class=\"dataframe\">\n",
       "  <thead>\n",
       "    <tr style=\"text-align: right;\">\n",
       "      <th></th>\n",
       "      <th>loc</th>\n",
       "      <th>count</th>\n",
       "      <th>Difference</th>\n",
       "    </tr>\n",
       "  </thead>\n",
       "  <tbody>\n",
       "    <tr>\n",
       "      <th>0</th>\n",
       "      <td>New Springville</td>\n",
       "      <td>104</td>\n",
       "      <td>NaN</td>\n",
       "    </tr>\n",
       "    <tr>\n",
       "      <th>1</th>\n",
       "      <td>Fort Hamilton</td>\n",
       "      <td>1000</td>\n",
       "      <td>NaN</td>\n",
       "    </tr>\n",
       "    <tr>\n",
       "      <th>2</th>\n",
       "      <td>Long Island City</td>\n",
       "      <td>10859</td>\n",
       "      <td>NaN</td>\n",
       "    </tr>\n",
       "    <tr>\n",
       "      <th>3</th>\n",
       "      <td>Staten Island</td>\n",
       "      <td>13726</td>\n",
       "      <td>NaN</td>\n",
       "    </tr>\n",
       "    <tr>\n",
       "      <th>4</th>\n",
       "      <td>Bronx</td>\n",
       "      <td>35296</td>\n",
       "      <td>NaN</td>\n",
       "    </tr>\n",
       "    <tr>\n",
       "      <th>5</th>\n",
       "      <td>Bedford-Stuyvesant</td>\n",
       "      <td>99705</td>\n",
       "      <td>NaN</td>\n",
       "    </tr>\n",
       "    <tr>\n",
       "      <th>6</th>\n",
       "      <td>Queens</td>\n",
       "      <td>173392</td>\n",
       "      <td>NaN</td>\n",
       "    </tr>\n",
       "    <tr>\n",
       "      <th>7</th>\n",
       "      <td>Manhattan</td>\n",
       "      <td>341287</td>\n",
       "      <td>NaN</td>\n",
       "    </tr>\n",
       "  </tbody>\n",
       "</table>\n",
       "</div>"
      ],
      "text/plain": [
       "                  loc   count  Difference\n",
       "0     New Springville     104         NaN\n",
       "1       Fort Hamilton    1000         NaN\n",
       "2    Long Island City   10859         NaN\n",
       "3       Staten Island   13726         NaN\n",
       "4               Bronx   35296         NaN\n",
       "5  Bedford-Stuyvesant   99705         NaN\n",
       "6              Queens  173392         NaN\n",
       "7           Manhattan  341287         NaN"
      ]
     },
     "execution_count": 23,
     "metadata": {},
     "output_type": "execute_result"
    }
   ],
   "source": [
    "df.index = df['loc']\n",
    "df.drop(columns = 'loc', inplace = True)\n",
    "df"
   ]
  },
  {
   "cell_type": "markdown",
   "metadata": {},
   "source": [
    "# Q4"
   ]
  },
  {
   "cell_type": "code",
   "execution_count": 41,
   "metadata": {},
   "outputs": [],
   "source": [
    "data_listings = util.fetch_perf_data('listings_join_reviews.json')\n",
    "data_listings = data_listings['q_listings_join_reviews_2019']\n",
    "\n",
    "data_listings_no_index = data_listings['__']\n",
    "data_listings_index = data_listings['__datetime_in_reviews__']\n",
    "\n",
    "data_listings_no_index_avg = data_listings_no_index['avg']\n",
    "data_listings_index_avg = data_listings_index['avg']"
   ]
  },
  {
   "cell_type": "code",
   "execution_count": 42,
   "metadata": {},
   "outputs": [
    {
     "data": {
      "text/plain": [
       "(1.1242, 0.2482)"
      ]
     },
     "execution_count": 42,
     "metadata": {},
     "output_type": "execute_result"
    }
   ],
   "source": [
    "data_listings_no_index_avg, data_listings_index_avg"
   ]
  },
  {
   "cell_type": "code",
   "execution_count": 43,
   "metadata": {},
   "outputs": [
    {
     "name": "stdout",
     "output_type": "stream",
     "text": [
      "Query: time saved by using index: 0.876 seconds\n"
     ]
    }
   ],
   "source": [
    "# time saved by using index for 1 query\n",
    "query_time_saved = data_listings_no_index_avg - data_listings_index_avg\n",
    "print(f\"Query: time saved by using index: {query_time_saved:.3f} seconds\")"
   ]
  },
  {
   "cell_type": "code",
   "execution_count": 44,
   "metadata": {},
   "outputs": [
    {
     "name": "stdout",
     "output_type": "stream",
     "text": [
      "Query: time saved by using index for 1000 queries: 14 minutes 36 seconds\n"
     ]
    }
   ],
   "source": [
    "# time saved by using index for 1000 queries\n",
    "query_time_saved_1000 = query_time_saved * 1000\n",
    "# convert to minutes and second\n",
    "minutes = query_time_saved_1000 // 60\n",
    "seconds = query_time_saved_1000 % 60\n",
    "print(f\"Query: time saved by using index for 1000 queries: {minutes:.0f} minutes {seconds:.0f} seconds\")"
   ]
  },
  {
   "cell_type": "code",
   "execution_count": 45,
   "metadata": {},
   "outputs": [],
   "source": [
    "data_update_manhattan = data_update_datetimes['update_datetimes_query_Manhattan']\n",
    "\n",
    "data_update_no_index = data_update_manhattan['__']\n",
    "data_update_index = data_update_manhattan['__datetime_in_reviews__']\n",
    "\n",
    "data_update_no_index_avg = data_update_no_index['avg']\n",
    "data_update_index_avg = data_update_index['avg']"
   ]
  },
  {
   "cell_type": "code",
   "execution_count": 46,
   "metadata": {},
   "outputs": [
    {
     "data": {
      "text/plain": [
       "(27.9098, 34.0193)"
      ]
     },
     "execution_count": 46,
     "metadata": {},
     "output_type": "execute_result"
    }
   ],
   "source": [
    "data_update_no_index_avg, data_update_index_avg"
   ]
  },
  {
   "cell_type": "code",
   "execution_count": 47,
   "metadata": {},
   "outputs": [
    {
     "name": "stdout",
     "output_type": "stream",
     "text": [
      "Update: time lost by using index: 6.1095 seconds\n"
     ]
    }
   ],
   "source": [
    "# time lost by using index for 1 update\n",
    "update_time_lost = data_update_index_avg - data_update_no_index_avg\n",
    "print(f\"Update: time lost by using index: {update_time_lost:.4f} seconds\")"
   ]
  },
  {
   "cell_type": "code",
   "execution_count": 48,
   "metadata": {},
   "outputs": [
    {
     "name": "stdout",
     "output_type": "stream",
     "text": [
      "Update: time lost by using index for 1000 updates: 1 hours, 41 minutes, 49.5 seconds\n"
     ]
    }
   ],
   "source": [
    "# time lost by using index for 1000 updates\n",
    "update_time_lost_1000 = update_time_lost * 1000\n",
    "# convert seconds to hours: mintues: seconds\n",
    "hours = update_time_lost_1000 // 3600\n",
    "minutes = (update_time_lost_1000 % 3600) // 60\n",
    "seconds = update_time_lost_1000 % 60\n",
    "print(f\"Update: time lost by using index for 1000 updates: {hours:.0f} hours, {minutes:.0f} minutes, {seconds:.1f} seconds\")"
   ]
  },
  {
   "cell_type": "code",
   "execution_count": 49,
   "metadata": {},
   "outputs": [
    {
     "name": "stdout",
     "output_type": "stream",
     "text": [
      "x = 0.8746\n"
     ]
    }
   ],
   "source": [
    "x = update_time_lost / (query_time_saved + update_time_lost)\n",
    "print(f'x = {x:.4f}')"
   ]
  }
 ],
 "metadata": {
  "kernelspec": {
   "display_name": "Python 3",
   "language": "python",
   "name": "python3"
  },
  "language_info": {
   "codemirror_mode": {
    "name": "ipython",
    "version": 3
   },
   "file_extension": ".py",
   "mimetype": "text/x-python",
   "name": "python",
   "nbconvert_exporter": "python",
   "pygments_lexer": "ipython3",
   "version": "3.11.6"
  }
 },
 "nbformat": 4,
 "nbformat_minor": 2
}
