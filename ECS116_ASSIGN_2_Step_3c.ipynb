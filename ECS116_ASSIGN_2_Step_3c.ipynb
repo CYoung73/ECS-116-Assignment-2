{
 "cells": [
  {
   "cell_type": "code",
   "execution_count": 1,
   "metadata": {},
   "outputs": [],
   "source": [
    "# These are boiler plate imports that seem useful\n",
    "# Perhaps cleaner would be to delete or comment out the ones that aren't used in this script...\n",
    "\n",
    "import sys\n",
    "import json\n",
    "import csv\n",
    "import yaml\n",
    "\n",
    "import os\n",
    "from dotenv import load_dotenv\n",
    "\n",
    "import pandas as pd\n",
    "import numpy as np\n",
    "import math\n",
    "\n",
    "import matplotlib as mpl\n",
    "\n",
    "import itertools\n",
    "\n",
    "import time\n",
    "from datetime import datetime\n",
    "# see https://stackoverflow.com/questions/415511/how-do-i-get-the-current-time-in-python\n",
    "#   for some basics about datetime\n",
    "\n",
    "import pprint\n",
    "\n",
    "# sqlalchemy 2.0 documentation: https://www.sqlalchemy.org/\n",
    "import psycopg2\n",
    "from sqlalchemy import create_engine, text as sql_text\n",
    "\n",
    "# the following is deprecated, it seems, so using the sqlalchemy\n",
    "# from pyscopg2 import sqlio\n",
    "\n",
    "# the file in benchmarking/util.py should hold utilities useful for your benchmarking exercise\n",
    "# In this notebook we have commented out all mentions of util, so that you can run\n",
    "#    this notebook before setting up your benchmarking/util.py file\n",
    "sys.path.append('benchmarking/')\n",
    "import util\n",
    "# to invoke a function \"foo()\" inside util.py, use \"util.foo()\""
   ]
  },
  {
   "cell_type": "code",
   "execution_count": 2,
   "metadata": {},
   "outputs": [],
   "source": [
    "dotenv_path = 'benchmarking/.ipynb_checkpoints/variables.env'\n",
    "load_dotenv(dotenv_path, override=True)\n",
    "\n",
    "schema = os.getenv(\"SCHEMA\")\n",
    "port = os.getenv(\"PORT\")\n",
    "host = os.getenv(\"HOST\")\n",
    "database = os.getenv(\"DATABASE\")\n",
    "username = os.getenv(\"USERNAME\")\n",
    "password = os.getenv(\"PASSWORD\")"
   ]
  },
  {
   "cell_type": "code",
   "execution_count": 3,
   "metadata": {},
   "outputs": [
    {
     "name": "stdout",
     "output_type": "stream",
     "text": [
      "Successfully created db engine.\n"
     ]
    }
   ],
   "source": [
    "# following https://www.geeksforgeeks.org/connecting-postgresql-with-sqlalchemy-in-python/\n",
    "\n",
    "db_eng = create_engine(f'postgresql+psycopg2://{username}:{password}@{host}:{port}/{database}',\n",
    "                       connect_args={'options': f'-csearch_path={schema}'},\n",
    "                       isolation_level = 'SERIALIZABLE')\n",
    "#    , echo=True)\n",
    "#    , echo_pool=\"debug\")\n",
    "\n",
    "print(\"Successfully created db engine.\")\n",
    "\n",
    "# connect_args is used to set search_path to the schema 'new_york_city' in the airbnb database\n",
    "\n",
    "# isolation_level SERIALIZABLE makes transactions happen in sequence, which is good \n",
    "#      for the benchmarking we will be doing\n",
    "\n",
    "# for general info on sqlalchemy connections,\n",
    "#    see: https://docs.sqlalchemy.org/en/20/core/connections.html\n",
    "\n",
    "# echo from https://docs.sqlalchemy.org/en/20/core/engines.html"
   ]
  },
  {
   "cell_type": "code",
   "execution_count": 4,
   "metadata": {},
   "outputs": [],
   "source": [
    "# neighborhoods and indexes\n",
    "neighbourhoods = ['New Springville', 'Fort Hamilton', 'Long Island City', 'Bedford-Stuyvesant']\n",
    "neighbourhoods_all_indexes = [['datetime','reviews'], ['neighbourhood','listings']]\n",
    "\n",
    "neighborhoods_q_dict = {}\n",
    "\n",
    "for nb in neighbourhoods:\n",
    "    neighborhoods_q_dict[f'update_datetimes_query_{nb}'] = (util.build_query_reviews_datetime_update(5, '+', 'neighbourhood', nb), util.build_query_reviews_datetime_update(5, '-', 'neighbourhood', nb))"
   ]
  },
  {
   "cell_type": "code",
   "execution_count": null,
   "metadata": {},
   "outputs": [],
   "source": [
    "util.run_update_datetime_query_neighbourhoods(db_eng, 50, neighborhoods_q_dict, neighbourhoods_all_indexes, 'update_datetimes_query.json')"
   ]
  },
  {
   "cell_type": "code",
   "execution_count": null,
   "metadata": {},
   "outputs": [],
   "source": [
    "# neighbourhood_groups and indexes\n",
    "neighbourhood_groups = ['Staten Island', 'Bronx', 'Queens', 'Manhattan']\n",
    "neighborhood_groups_all_indexes = [['datetime','reviews'], ['neighbourhood_group','listings']]\n",
    "\n",
    "neighborhood_groups_q_dict = {}\n",
    "\n",
    "for group in neighbourhood_groups:\n",
    "    neighborhood_groups_q_dict[f'update_datetimes_query_{group}'] = (util.build_query_reviews_datetime_update(5, '+', 'group', group), util.build_query_reviews_datetime_update(5, '-', 'group', group))"
   ]
  },
  {
   "cell_type": "code",
   "execution_count": null,
   "metadata": {},
   "outputs": [],
   "source": [
    "util.run_update_datetime_query_neighbourhoods(db_eng, 50, neighborhood_groups_q_dict, neighborhood_groups_all_indexes, 'update_datetimes_query.json')"
   ]
  }
 ],
 "metadata": {
  "kernelspec": {
   "display_name": "Python 3",
   "language": "python",
   "name": "python3"
  },
  "language_info": {
   "codemirror_mode": {
    "name": "ipython",
    "version": 3
   },
   "file_extension": ".py",
   "mimetype": "text/x-python",
   "name": "python",
   "nbconvert_exporter": "python",
   "pygments_lexer": "ipython3",
   "version": "3.11.6"
  }
 },
 "nbformat": 4,
 "nbformat_minor": 2
}
