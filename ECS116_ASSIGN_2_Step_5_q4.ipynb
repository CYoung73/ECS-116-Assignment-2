{
 "cells": [
  {
   "cell_type": "code",
   "execution_count": 40,
   "metadata": {},
   "outputs": [],
   "source": [
    "# These are boiler plate imports that seem useful\n",
    "# Perhaps cleaner would be to delete or comment out the ones that aren't used in this script...\n",
    "\n",
    "import sys\n",
    "import json\n",
    "import csv\n",
    "import yaml\n",
    "\n",
    "import os\n",
    "from dotenv import load_dotenv\n",
    "\n",
    "import pandas as pd\n",
    "import numpy as np\n",
    "import math\n",
    "\n",
    "import matplotlib as mpl\n",
    "import matplotlib.pyplot as plt\n",
    "\n",
    "import itertools\n",
    "\n",
    "import time\n",
    "import datetime\n",
    "# see https://stackoverflow.com/questions/415511/how-do-i-get-the-current-time-in-python\n",
    "#   for some basics about datetime\n",
    "\n",
    "import pprint\n",
    "\n",
    "# sqlalchemy 2.0 documentation: https://www.sqlalchemy.org/\n",
    "import psycopg2\n",
    "from sqlalchemy import create_engine, text as sql_text\n",
    "\n",
    "# the following is deprecated, it seems, so using the sqlalchemy\n",
    "# from pyscopg2 import sqlio\n",
    "\n",
    "# the file in benchmarking/util.py should hold utilities useful for your benchmarking exercise\n",
    "# In this notebook we have commented out all mentions of util, so that you can run\n",
    "#    this notebook before setting up your benchmarking/util.py file\n",
    "sys.path.append('benchmarking/')\n",
    "import util\n",
    "# to invoke a function \"foo()\" inside util.py, use \"util.foo()\""
   ]
  },
  {
   "cell_type": "code",
   "execution_count": 41,
   "metadata": {},
   "outputs": [],
   "source": [
    "data_listings = util.fetch_perf_data('listings_join_reviews.json')\n",
    "data_listings = data_listings['q_listings_join_reviews_2019']\n",
    "\n",
    "data_listings_no_index = data_listings['__']\n",
    "data_listings_index = data_listings['__datetime_in_reviews__']\n",
    "\n",
    "data_listings_no_index_avg = data_listings_no_index['avg']\n",
    "data_listings_index_avg = data_listings_index['avg']"
   ]
  },
  {
   "cell_type": "code",
   "execution_count": 42,
   "metadata": {},
   "outputs": [
    {
     "data": {
      "text/plain": [
       "(1.1242, 0.2482)"
      ]
     },
     "execution_count": 42,
     "metadata": {},
     "output_type": "execute_result"
    }
   ],
   "source": [
    "data_listings_no_index_avg, data_listings_index_avg"
   ]
  },
  {
   "cell_type": "code",
   "execution_count": 43,
   "metadata": {},
   "outputs": [
    {
     "name": "stdout",
     "output_type": "stream",
     "text": [
      "Query: time saved by using index: 0.876 seconds\n"
     ]
    }
   ],
   "source": [
    "# time saved by using index for 1 query\n",
    "query_time_saved = data_listings_no_index_avg - data_listings_index_avg\n",
    "print(f\"Query: time saved by using index: {query_time_saved:.3f} seconds\")"
   ]
  },
  {
   "cell_type": "code",
   "execution_count": 44,
   "metadata": {},
   "outputs": [
    {
     "name": "stdout",
     "output_type": "stream",
     "text": [
      "Query: time saved by using index for 1000 queries: 14 minutes 36 seconds\n"
     ]
    }
   ],
   "source": [
    "# time saved by using index for 1000 queries\n",
    "query_time_saved_1000 = query_time_saved * 1000\n",
    "# convert to minutes and second\n",
    "minutes = query_time_saved_1000 // 60\n",
    "seconds = query_time_saved_1000 % 60\n",
    "print(f\"Query: time saved by using index for 1000 queries: {minutes:.0f} minutes {seconds:.0f} seconds\")"
   ]
  },
  {
   "cell_type": "code",
   "execution_count": 45,
   "metadata": {},
   "outputs": [],
   "source": [
    "data_update = util.fetch_perf_data('update_datetimes_query.json')\n",
    "data_update = data_update['update_datetimes_query_Manhattan']\n",
    "\n",
    "data_update_no_index = data_update['__']\n",
    "data_update_index = data_update['__datetime_in_reviews__']\n",
    "\n",
    "data_update_no_index_avg = data_update_no_index['avg']\n",
    "data_update_index_avg = data_update_index['avg']"
   ]
  },
  {
   "cell_type": "code",
   "execution_count": 46,
   "metadata": {},
   "outputs": [
    {
     "data": {
      "text/plain": [
       "(27.9098, 34.0193)"
      ]
     },
     "execution_count": 46,
     "metadata": {},
     "output_type": "execute_result"
    }
   ],
   "source": [
    "data_update_no_index_avg, data_update_index_avg"
   ]
  },
  {
   "cell_type": "code",
   "execution_count": 47,
   "metadata": {},
   "outputs": [
    {
     "name": "stdout",
     "output_type": "stream",
     "text": [
      "Update: time lost by using index: 6.1095 seconds\n"
     ]
    }
   ],
   "source": [
    "# time lost by using index for 1 update\n",
    "update_time_lost = data_update_index_avg - data_update_no_index_avg\n",
    "print(f\"Update: time lost by using index: {update_time_lost:.4f} seconds\")"
   ]
  },
  {
   "cell_type": "code",
   "execution_count": 48,
   "metadata": {},
   "outputs": [
    {
     "name": "stdout",
     "output_type": "stream",
     "text": [
      "Update: time lost by using index for 1000 updates: 1 hours, 41 minutes, 49.5 seconds\n"
     ]
    }
   ],
   "source": [
    "# time lost by using index for 1000 updates\n",
    "update_time_lost_1000 = update_time_lost * 1000\n",
    "# convert seconds to hours: mintues: seconds\n",
    "hours = update_time_lost_1000 // 3600\n",
    "minutes = (update_time_lost_1000 % 3600) // 60\n",
    "seconds = update_time_lost_1000 % 60\n",
    "print(f\"Update: time lost by using index for 1000 updates: {hours:.0f} hours, {minutes:.0f} minutes, {seconds:.1f} seconds\")"
   ]
  },
  {
   "cell_type": "code",
   "execution_count": 49,
   "metadata": {},
   "outputs": [
    {
     "name": "stdout",
     "output_type": "stream",
     "text": [
      "x = 0.8746\n"
     ]
    }
   ],
   "source": [
    "x = update_time_lost / (query_time_saved + update_time_lost)\n",
    "print(f'x = {x:.4f}')"
   ]
  }
 ],
 "metadata": {
  "kernelspec": {
   "display_name": "Python 3",
   "language": "python",
   "name": "python3"
  },
  "language_info": {
   "codemirror_mode": {
    "name": "ipython",
    "version": 3
   },
   "file_extension": ".py",
   "mimetype": "text/x-python",
   "name": "python",
   "nbconvert_exporter": "python",
   "pygments_lexer": "ipython3",
   "version": "3.10.8"
  }
 },
 "nbformat": 4,
 "nbformat_minor": 2
}
